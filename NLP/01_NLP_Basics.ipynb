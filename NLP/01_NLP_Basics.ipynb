{
  "nbformat": 4,
  "nbformat_minor": 0,
  "metadata": {
    "colab": {
      "provenance": [],
      "authorship_tag": "ABX9TyMhzRdq4eq0JG3OsAQd2eqv",
      "include_colab_link": true
    },
    "kernelspec": {
      "name": "python3",
      "display_name": "Python 3"
    },
    "language_info": {
      "name": "python"
    }
  },
  "cells": [
    {
      "cell_type": "markdown",
      "metadata": {
        "id": "view-in-github",
        "colab_type": "text"
      },
      "source": [
        "<a href=\"https://colab.research.google.com/github/misrapk/Complete-Data-Science-and-ML-Preparation/blob/master/01_NLP_Basics.ipynb\" target=\"_parent\"><img src=\"https://colab.research.google.com/assets/colab-badge.svg\" alt=\"Open In Colab\"/></a>"
      ]
    },
    {
      "cell_type": "code",
      "execution_count": 51,
      "metadata": {
        "colab": {
          "base_uri": "https://localhost:8080/"
        },
        "id": "9CckGBs9UH2h",
        "outputId": "19ae8b85-024f-40a9-fee8-709f1b1225d8"
      },
      "outputs": [
        {
          "output_type": "stream",
          "name": "stdout",
          "text": [
            "Requirement already satisfied: nltk in /usr/local/lib/python3.11/dist-packages (3.9.1)\n",
            "Requirement already satisfied: click in /usr/local/lib/python3.11/dist-packages (from nltk) (8.2.1)\n",
            "Requirement already satisfied: joblib in /usr/local/lib/python3.11/dist-packages (from nltk) (1.5.1)\n",
            "Requirement already satisfied: regex>=2021.8.3 in /usr/local/lib/python3.11/dist-packages (from nltk) (2024.11.6)\n",
            "Requirement already satisfied: tqdm in /usr/local/lib/python3.11/dist-packages (from nltk) (4.67.1)\n"
          ]
        }
      ],
      "source": [
        "!pip install nltk"
      ]
    },
    {
      "cell_type": "code",
      "source": [
        "import nltk\n",
        "nltk.download('punkt_tab')\n",
        "nltk.download('wordnet')"
      ],
      "metadata": {
        "colab": {
          "base_uri": "https://localhost:8080/"
        },
        "id": "S4NAirSS602e",
        "outputId": "32d85f08-b592-4f3a-f968-8760d06c1c8c"
      },
      "execution_count": 52,
      "outputs": [
        {
          "output_type": "stream",
          "name": "stderr",
          "text": [
            "[nltk_data] Downloading package punkt_tab to /root/nltk_data...\n",
            "[nltk_data]   Package punkt_tab is already up-to-date!\n",
            "[nltk_data] Downloading package wordnet to /root/nltk_data...\n",
            "[nltk_data]   Package wordnet is already up-to-date!\n"
          ]
        },
        {
          "output_type": "execute_result",
          "data": {
            "text/plain": [
              "True"
            ]
          },
          "metadata": {},
          "execution_count": 52
        }
      ]
    },
    {
      "cell_type": "code",
      "source": [
        "corpus = \"\"\"Hello and welc.ome to yet another video. This is your programming\n",
        "friend, Peeyush. And this is NLP Playlist. What's your plan?\"\"\""
      ],
      "metadata": {
        "id": "oocMGJhNUWAU"
      },
      "execution_count": 53,
      "outputs": []
    },
    {
      "cell_type": "code",
      "source": [
        "corpus"
      ],
      "metadata": {
        "colab": {
          "base_uri": "https://localhost:8080/",
          "height": 52
        },
        "id": "fBG65vvuU42H",
        "outputId": "4fc3e770-01c1-4a10-b96a-5735395a4ea3"
      },
      "execution_count": 54,
      "outputs": [
        {
          "output_type": "execute_result",
          "data": {
            "text/plain": [
              "\"Hello and welc.ome to yet another video. This is your programming\\nfriend, Peeyush. And this is NLP Playlist. What's your plan?\""
            ],
            "application/vnd.google.colaboratory.intrinsic+json": {
              "type": "string"
            }
          },
          "metadata": {},
          "execution_count": 54
        }
      ]
    },
    {
      "cell_type": "code",
      "source": [
        "from nltk.tokenize import sent_tokenize"
      ],
      "metadata": {
        "id": "DJvaIgLEU5dy"
      },
      "execution_count": 55,
      "outputs": []
    },
    {
      "cell_type": "code",
      "source": [
        "documents = sent_tokenize(corpus)"
      ],
      "metadata": {
        "id": "SdBlnBzHVIhj"
      },
      "execution_count": 56,
      "outputs": []
    },
    {
      "cell_type": "code",
      "source": [
        "documents"
      ],
      "metadata": {
        "colab": {
          "base_uri": "https://localhost:8080/"
        },
        "id": "zba23TvPVcZC",
        "outputId": "b814a6af-c8a7-4d3c-a41c-cdf87c04d074"
      },
      "execution_count": 57,
      "outputs": [
        {
          "output_type": "execute_result",
          "data": {
            "text/plain": [
              "['Hello and welc.ome to yet another video.',\n",
              " 'This is your programming\\nfriend, Peeyush.',\n",
              " 'And this is NLP Playlist.',\n",
              " \"What's your plan?\"]"
            ]
          },
          "metadata": {},
          "execution_count": 57
        }
      ]
    },
    {
      "cell_type": "code",
      "source": [
        "from nltk.tokenize import word_tokenize\n",
        "\n",
        "word_tokenize(corpus)"
      ],
      "metadata": {
        "colab": {
          "base_uri": "https://localhost:8080/"
        },
        "id": "ohNFb1XYVKYB",
        "outputId": "7e55abdf-6ee2-4de8-d907-997ff0c8d8e2"
      },
      "execution_count": 58,
      "outputs": [
        {
          "output_type": "execute_result",
          "data": {
            "text/plain": [
              "['Hello',\n",
              " 'and',\n",
              " 'welc.ome',\n",
              " 'to',\n",
              " 'yet',\n",
              " 'another',\n",
              " 'video',\n",
              " '.',\n",
              " 'This',\n",
              " 'is',\n",
              " 'your',\n",
              " 'programming',\n",
              " 'friend',\n",
              " ',',\n",
              " 'Peeyush',\n",
              " '.',\n",
              " 'And',\n",
              " 'this',\n",
              " 'is',\n",
              " 'NLP',\n",
              " 'Playlist',\n",
              " '.',\n",
              " 'What',\n",
              " \"'s\",\n",
              " 'your',\n",
              " 'plan',\n",
              " '?']"
            ]
          },
          "metadata": {},
          "execution_count": 58
        }
      ]
    },
    {
      "cell_type": "code",
      "source": [
        "#wordpunct\n",
        "from nltk.tokenize import wordpunct_tokenize\n",
        "wordpunct_tokenize(corpus)"
      ],
      "metadata": {
        "colab": {
          "base_uri": "https://localhost:8080/"
        },
        "id": "0mHKhmt6WJrY",
        "outputId": "c0288e37-2a6b-4bd8-eb3c-d1f8f3d41c69"
      },
      "execution_count": 59,
      "outputs": [
        {
          "output_type": "execute_result",
          "data": {
            "text/plain": [
              "['Hello',\n",
              " 'and',\n",
              " 'welc',\n",
              " '.',\n",
              " 'ome',\n",
              " 'to',\n",
              " 'yet',\n",
              " 'another',\n",
              " 'video',\n",
              " '.',\n",
              " 'This',\n",
              " 'is',\n",
              " 'your',\n",
              " 'programming',\n",
              " 'friend',\n",
              " ',',\n",
              " 'Peeyush',\n",
              " '.',\n",
              " 'And',\n",
              " 'this',\n",
              " 'is',\n",
              " 'NLP',\n",
              " 'Playlist',\n",
              " '.',\n",
              " 'What',\n",
              " \"'\",\n",
              " 's',\n",
              " 'your',\n",
              " 'plan',\n",
              " '?']"
            ]
          },
          "metadata": {},
          "execution_count": 59
        }
      ]
    },
    {
      "cell_type": "markdown",
      "source": [
        "## TreenBankWordTokernizer\n",
        "\n",
        "The Treebank tokenizer uses regular expressions to tokenize text as in Penn Treebank."
      ],
      "metadata": {
        "id": "c2Bs1huJ66Ql"
      }
    },
    {
      "cell_type": "code",
      "source": [
        "from nltk.tokenize import TreebankWordTokenizer\n",
        "\n",
        "tokenizer = TreebankWordTokenizer()\n",
        "tokenizer.tokenize(corpus)"
      ],
      "metadata": {
        "colab": {
          "base_uri": "https://localhost:8080/"
        },
        "id": "DK7IlpDC6-oV",
        "outputId": "cc07bb42-81cb-4639-eefc-ee4add720d36"
      },
      "execution_count": 60,
      "outputs": [
        {
          "output_type": "execute_result",
          "data": {
            "text/plain": [
              "['Hello',\n",
              " 'and',\n",
              " 'welc.ome',\n",
              " 'to',\n",
              " 'yet',\n",
              " 'another',\n",
              " 'video.',\n",
              " 'This',\n",
              " 'is',\n",
              " 'your',\n",
              " 'programming',\n",
              " 'friend',\n",
              " ',',\n",
              " 'Peeyush.',\n",
              " 'And',\n",
              " 'this',\n",
              " 'is',\n",
              " 'NLP',\n",
              " 'Playlist.',\n",
              " 'What',\n",
              " \"'s\",\n",
              " 'your',\n",
              " 'plan',\n",
              " '?']"
            ]
          },
          "metadata": {},
          "execution_count": 60
        }
      ]
    },
    {
      "cell_type": "markdown",
      "source": [
        "# Stemming\n",
        "The process of reducing a word to its word stem.\n",
        "\n",
        "-- Eating, Eaten, eats --> eat\n",
        "\n",
        "-- going, gone, goes --> go"
      ],
      "metadata": {
        "id": "1cLhmh5J7qCD"
      }
    },
    {
      "cell_type": "code",
      "source": [
        "#Porterstemming\n",
        "from nltk.stem.porter import PorterStemmer\n",
        "\n",
        "stemmer = PorterStemmer()\n",
        "\n",
        "words = ['eating', 'eats', 'eaten', 'running', 'runs', 'ran',\n",
        "         'going', 'goesdd','godess','history', 'mistory', 'congratulations']\n",
        "\n",
        "for word in words:\n",
        "  print(word, ' --> ', stemmer.stem(word))"
      ],
      "metadata": {
        "colab": {
          "base_uri": "https://localhost:8080/"
        },
        "id": "mANOFoWG66Ca",
        "outputId": "59e725bf-902d-4d2f-bf20-23a07a6b34f5"
      },
      "execution_count": 61,
      "outputs": [
        {
          "output_type": "stream",
          "name": "stdout",
          "text": [
            "eating  -->  eat\n",
            "eats  -->  eat\n",
            "eaten  -->  eaten\n",
            "running  -->  run\n",
            "runs  -->  run\n",
            "ran  -->  ran\n",
            "going  -->  go\n",
            "goesdd  -->  goesdd\n",
            "godess  -->  godess\n",
            "history  -->  histori\n",
            "mistory  -->  mistori\n",
            "congratulations  -->  congratul\n"
          ]
        }
      ]
    },
    {
      "cell_type": "markdown",
      "source": [
        "one major disadvantages is some words will not get a good meaning after stemming such as 'hisotry'--> 'histori'"
      ],
      "metadata": {
        "id": "9BCABt_m88S4"
      }
    },
    {
      "cell_type": "code",
      "source": [
        "#REgexPStemmer Class\n",
        "from nltk.stem import RegexpStemmer\n",
        "\n",
        "reg_stemmer = RegexpStemmer('ing$|s$|e$|able$', min = 4)"
      ],
      "metadata": {
        "id": "Ye4rj38u8ex7"
      },
      "execution_count": 62,
      "outputs": []
    },
    {
      "cell_type": "code",
      "source": [
        "reg_stemmer.stem('eating')"
      ],
      "metadata": {
        "colab": {
          "base_uri": "https://localhost:8080/",
          "height": 35
        },
        "id": "19yGM-oHW_VV",
        "outputId": "027b2c0e-e88e-4495-ed2c-32232db7993f"
      },
      "execution_count": 63,
      "outputs": [
        {
          "output_type": "execute_result",
          "data": {
            "text/plain": [
              "'eat'"
            ],
            "application/vnd.google.colaboratory.intrinsic+json": {
              "type": "string"
            }
          },
          "metadata": {},
          "execution_count": 63
        }
      ]
    },
    {
      "cell_type": "code",
      "source": [
        "  # Lematizer\n",
        "\n",
        "from nltk.stem import WordNetLemmatizer\n",
        "\n",
        "lemmatizer = WordNetLemmatizer()"
      ],
      "metadata": {
        "id": "U6kwVTin9pW6"
      },
      "execution_count": 64,
      "outputs": []
    },
    {
      "cell_type": "code",
      "source": [
        "lemmatizer.lemmatize('going', pos='v') # v = verb"
      ],
      "metadata": {
        "colab": {
          "base_uri": "https://localhost:8080/",
          "height": 35
        },
        "id": "hQ6yT8x1TONx",
        "outputId": "5004c766-d3f6-4687-9228-f70523a4e757"
      },
      "execution_count": 65,
      "outputs": [
        {
          "output_type": "execute_result",
          "data": {
            "text/plain": [
              "'go'"
            ],
            "application/vnd.google.colaboratory.intrinsic+json": {
              "type": "string"
            }
          },
          "metadata": {},
          "execution_count": 65
        }
      ]
    },
    {
      "cell_type": "code",
      "source": [
        "for word in words:\n",
        "  print(word, ' --> ', lemmatizer.lemmatize(word, pos='n'))"
      ],
      "metadata": {
        "colab": {
          "base_uri": "https://localhost:8080/"
        },
        "id": "_sU5GG-TTR0U",
        "outputId": "5a5885fb-91b5-43ae-f44d-4f2117db2846"
      },
      "execution_count": 66,
      "outputs": [
        {
          "output_type": "stream",
          "name": "stdout",
          "text": [
            "eating  -->  eating\n",
            "eats  -->  eats\n",
            "eaten  -->  eaten\n",
            "running  -->  running\n",
            "runs  -->  run\n",
            "ran  -->  ran\n",
            "going  -->  going\n",
            "goesdd  -->  goesdd\n",
            "godess  -->  godess\n",
            "history  -->  history\n",
            "mistory  -->  mistory\n",
            "congratulations  -->  congratulation\n"
          ]
        }
      ]
    },
    {
      "cell_type": "code",
      "source": [
        "for word in words:\n",
        "  print(word, ' --> ', lemmatizer.lemmatize(word, pos='v'))"
      ],
      "metadata": {
        "colab": {
          "base_uri": "https://localhost:8080/"
        },
        "id": "SBKb1aU0TxUr",
        "outputId": "bbbd54ab-fb41-4d2d-837c-a55bc8b86c1d"
      },
      "execution_count": 67,
      "outputs": [
        {
          "output_type": "stream",
          "name": "stdout",
          "text": [
            "eating  -->  eat\n",
            "eats  -->  eat\n",
            "eaten  -->  eat\n",
            "running  -->  run\n",
            "runs  -->  run\n",
            "ran  -->  run\n",
            "going  -->  go\n",
            "goesdd  -->  goesdd\n",
            "godess  -->  godess\n",
            "history  -->  history\n",
            "mistory  -->  mistory\n",
            "congratulations  -->  congratulations\n"
          ]
        }
      ]
    },
    {
      "cell_type": "markdown",
      "source": [
        "# Text Preporcessing - Stop words"
      ],
      "metadata": {
        "id": "G0Ds6MmlY98-"
      }
    },
    {
      "cell_type": "code",
      "source": [
        "para = \"\"\"In his legendary 2005 commencement speech at Stanford University, Steve Jobs shared three deeply personal stories that shaped his life, career, and philosophy. His speech emphasized the importance of trusting your intuition, finding your passion, and embracing life’s challenges with courage and faith.\n",
        "The first story was about connecting the dots. Jobs described how dropping out of college allowed him to take a calligraphy course that seemed useless at the time but later influenced the beautiful typography in the first Macintosh computer. He explained that you can’t connect the dots looking forward—you can only connect them looking backward—so you have to trust that the dots will connect in your future.\n",
        "His second story focused on love and loss.\n",
        "Jobs spoke of how he was fired from Apple, the company he co-founded. Though devastating at first, the experience rekindled his creativity, leading to the founding of NeXT and Pixar. He stressed the importance of loving what you do because that love will keep you going when things get tough.\n",
        "The third story was about death. Jobs shared his brush with a cancer diagnosis and how that experience reminded him that life is short. He urged students to live each day as if it were their last, to not waste time living someone else’s life, and to have the courage to follow their heart and intuition.\n",
        "He ended the speech with the words: \"Stay Hungry. Stay Foolish,\" a motto from the final issue of The Whole Earth Catalog that inspired him throughout his life.\n",
        "Jobs' speech remains a timeless reminder to pursue passion over security, embrace setbacks as opportunities, and to live with purpose and authenticity.\"\"\""
      ],
      "metadata": {
        "id": "C8V7cEbJT1Uj"
      },
      "execution_count": 68,
      "outputs": []
    },
    {
      "cell_type": "code",
      "source": [
        "from nltk.stem import PorterStemmer\n",
        "from nltk.corpus import stopwords\n",
        "\n",
        "import nltk\n",
        "nltk.download('stopwords')"
      ],
      "metadata": {
        "colab": {
          "base_uri": "https://localhost:8080/"
        },
        "id": "FkQb6xmiaJc9",
        "outputId": "551400b6-4ac3-47f0-d55d-755e06e78f98"
      },
      "execution_count": 69,
      "outputs": [
        {
          "output_type": "stream",
          "name": "stderr",
          "text": [
            "[nltk_data] Downloading package stopwords to /root/nltk_data...\n",
            "[nltk_data]   Package stopwords is already up-to-date!\n"
          ]
        },
        {
          "output_type": "execute_result",
          "data": {
            "text/plain": [
              "True"
            ]
          },
          "metadata": {},
          "execution_count": 69
        }
      ]
    },
    {
      "cell_type": "code",
      "source": [
        "# stopwords.words('arabic')"
      ],
      "metadata": {
        "id": "Ng_dwib6cu1d"
      },
      "execution_count": 70,
      "outputs": []
    },
    {
      "cell_type": "code",
      "source": [
        "# apply stemming and remve the stop words from para\n",
        "from nltk.stem import PorterStemmer\n",
        "stemmer = PorterStemmer()"
      ],
      "metadata": {
        "id": "kdWMT4K-c8NJ"
      },
      "execution_count": 71,
      "outputs": []
    },
    {
      "cell_type": "code",
      "source": [
        "#tokenisation - divide into sentences\n",
        "sentences = nltk.sent_tokenize(para)"
      ],
      "metadata": {
        "id": "2hu_TOXgdJYL"
      },
      "execution_count": 72,
      "outputs": []
    },
    {
      "cell_type": "code",
      "source": [
        "type(sentences)"
      ],
      "metadata": {
        "colab": {
          "base_uri": "https://localhost:8080/"
        },
        "id": "tFZ20D9AdR6U",
        "outputId": "3a4aeb7c-dcf8-44e6-ff94-b9ccc917b9ee"
      },
      "execution_count": 73,
      "outputs": [
        {
          "output_type": "execute_result",
          "data": {
            "text/plain": [
              "list"
            ]
          },
          "metadata": {},
          "execution_count": 73
        }
      ]
    },
    {
      "cell_type": "code",
      "source": [
        "sentences[0:4]"
      ],
      "metadata": {
        "colab": {
          "base_uri": "https://localhost:8080/"
        },
        "id": "4MyT2oModNwl",
        "outputId": "33e2af30-7d93-491c-9d4b-d2cabd3771f8"
      },
      "execution_count": 74,
      "outputs": [
        {
          "output_type": "execute_result",
          "data": {
            "text/plain": [
              "['In his legendary 2005 commencement speech at Stanford University, Steve Jobs shared three deeply personal stories that shaped his life, career, and philosophy.',\n",
              " 'His speech emphasized the importance of trusting your intuition, finding your passion, and embracing life’s challenges with courage and faith.',\n",
              " 'The first story was about connecting the dots.',\n",
              " 'Jobs described how dropping out of college allowed him to take a calligraphy course that seemed useless at the time but later influenced the beautiful typography in the first Macintosh computer.']"
            ]
          },
          "metadata": {},
          "execution_count": 74
        }
      ]
    },
    {
      "cell_type": "code",
      "source": [
        "## Apply stopwords and filter and then apply stemming\n",
        "for i in range(len(sentences)):\n",
        "  words = nltk.word_tokenize(sentences[i])\n",
        "  words = [stemmer.stem(word) for word in words if word not in set(stopwords.words('english'))] #remove stop words\n",
        "  sentences[i] = ' '.join(words)  #concvert all the words into sentences"
      ],
      "metadata": {
        "id": "9Gk47k4sdVmK"
      },
      "execution_count": 75,
      "outputs": []
    },
    {
      "cell_type": "code",
      "source": [
        "sentences"
      ],
      "metadata": {
        "colab": {
          "base_uri": "https://localhost:8080/"
        },
        "id": "TCrJnHxFgrSz",
        "outputId": "e7c88e63-7b79-48fd-da8d-e40c7eebd563"
      },
      "execution_count": 76,
      "outputs": [
        {
          "output_type": "execute_result",
          "data": {
            "text/plain": [
              "['in legendari 2005 commenc speech stanford univers , steve job share three deepli person stori shape life , career , philosophi .',\n",
              " 'hi speech emphas import trust intuit , find passion , embrac life ’ challeng courag faith .',\n",
              " 'the first stori connect dot .',\n",
              " 'job describ drop colleg allow take calligraphi cours seem useless time later influenc beauti typographi first macintosh comput .',\n",
              " 'he explain ’ connect dot look forward—y connect look backward—so trust dot connect futur .',\n",
              " 'hi second stori focus love loss .',\n",
              " 'job spoke fire appl , compani co-found .',\n",
              " 'though devast first , experi rekindl creativ , lead found next pixar .',\n",
              " 'he stress import love love keep go thing get tough .',\n",
              " 'the third stori death .',\n",
              " 'job share brush cancer diagnosi experi remind life short .',\n",
              " 'he urg student live day last , wast time live someon els ’ life , courag follow heart intuit .',\n",
              " 'he end speech word : `` stay hungri .',\n",
              " \"stay foolish , '' motto final issu the whole earth catalog inspir throughout life .\",\n",
              " \"job ' speech remain timeless remind pursu passion secur , embrac setback opportun , live purpos authent .\"]"
            ]
          },
          "metadata": {},
          "execution_count": 76
        }
      ]
    },
    {
      "cell_type": "markdown",
      "source": [
        "### USE SNOW BALL STEMMER\n",
        "for good stemming"
      ],
      "metadata": {
        "id": "H-swVCa-hNoT"
      }
    },
    {
      "cell_type": "code",
      "source": [
        "para = \"\"\"In his legendary 2005 commencement speech at Stanford University, Steve Jobs shared three deeply personal stories that shaped his life, career, and philosophy. His speech emphasized the importance of trusting your intuition, finding your passion, and embracing life’s challenges with courage and faith.\n",
        "The first story was about connecting the dots. Jobs described how dropping out of college allowed him to take a calligraphy course that seemed useless at the time but later influenced the beautiful typography in the first Macintosh computer. He explained that you can’t connect the dots looking forward—you can only connect them looking backward—so you have to trust that the dots will connect in your future.\n",
        "His second story focused on love and loss.\n",
        "Jobs spoke of how he was fired from Apple, the company he co-founded. Though devastating at first, the experience rekindled his creativity, leading to the founding of NeXT and Pixar. He stressed the importance of loving what you do because that love will keep you going when things get tough.\n",
        "The third story was about death. Jobs shared his brush with a cancer diagnosis and how that experience reminded him that life is short. He urged students to live each day as if it were their last, to not waste time living someone else’s life, and to have the courage to follow their heart and intuition.\n",
        "He ended the speech with the words: \"Stay Hungry. Stay Foolish,\" a motto from the final issue of The Whole Earth Catalog that inspired him throughout his life.\n",
        "Jobs' speech remains a timeless reminder to pursue passion over security, embrace setbacks as opportunities, and to live with purpose and authenticity.\"\"\"\n",
        "\n",
        "sentences = nltk.sent_tokenize(para)"
      ],
      "metadata": {
        "id": "CzStWYaMhgAK"
      },
      "execution_count": 77,
      "outputs": []
    },
    {
      "cell_type": "code",
      "source": [
        "from nltk.stem import SnowballStemmer\n",
        "snowballstemmer = SnowballStemmer('english')"
      ],
      "metadata": {
        "id": "0ylylNR5djWr"
      },
      "execution_count": 78,
      "outputs": []
    },
    {
      "cell_type": "code",
      "source": [
        "## Apply stopwords and filter and then apply Snowball stemming\n",
        "for i in range(len(sentences)):\n",
        "  words = nltk.word_tokenize(sentences[i])\n",
        "  words = [snowballstemmer.stem(word) for word in words if word not in set(stopwords.words('english'))] #remove stop words\n",
        "  sentences[i] = ' '.join(words)  #concvert all the words into sentences"
      ],
      "metadata": {
        "id": "3ohKKoNehQ95"
      },
      "execution_count": 79,
      "outputs": []
    },
    {
      "cell_type": "code",
      "source": [
        "sentences"
      ],
      "metadata": {
        "colab": {
          "base_uri": "https://localhost:8080/"
        },
        "id": "ZFtW37hhhiS_",
        "outputId": "70e86681-8295-4edd-e812-c17bd72281d8"
      },
      "execution_count": 80,
      "outputs": [
        {
          "output_type": "execute_result",
          "data": {
            "text/plain": [
              "['in legendari 2005 commenc speech stanford univers , steve job share three deepli person stori shape life , career , philosophi .',\n",
              " 'his speech emphas import trust intuit , find passion , embrac life ’ challeng courag faith .',\n",
              " 'the first stori connect dot .',\n",
              " 'job describ drop colleg allow take calligraphi cours seem useless time later influenc beauti typographi first macintosh comput .',\n",
              " 'he explain ’ connect dot look forward—you connect look backward—so trust dot connect futur .',\n",
              " 'his second stori focus love loss .',\n",
              " 'job spoke fire appl , compani co-found .',\n",
              " 'though devast first , experi rekindl creativ , lead found next pixar .',\n",
              " 'he stress import love love keep go thing get tough .',\n",
              " 'the third stori death .',\n",
              " 'job share brush cancer diagnosi experi remind life short .',\n",
              " 'he urg student live day last , wast time live someon els ’ life , courag follow heart intuit .',\n",
              " 'he end speech word : `` stay hungri .',\n",
              " \"stay foolish , '' motto final issu the whole earth catalog inspir throughout life .\",\n",
              " \"job ' speech remain timeless remind pursu passion secur , embrac setback opportun , live purpos authent .\"]"
            ]
          },
          "metadata": {},
          "execution_count": 80
        }
      ]
    },
    {
      "cell_type": "markdown",
      "source": [
        "# User Lemmetizer"
      ],
      "metadata": {
        "id": "6RpgzgMEiWZJ"
      }
    },
    {
      "cell_type": "code",
      "source": [
        "para = \"\"\"In his legendary 2005 commencement speech at Stanford University, Steve Jobs shared three deeply personal stories that shaped his life, career, and philosophy. His speech emphasized the importance of trusting your intuition, finding your passion, and embracing life’s challenges with courage and faith.\n",
        "The first story was about connecting the dots. Jobs described how dropping out of college allowed him to take a calligraphy course that seemed useless at the time but later influenced the beautiful typography in the first Macintosh computer. He explained that you can’t connect the dots looking forward—you can only connect them looking backward—so you have to trust that the dots will connect in your future.\n",
        "His second story focused on love and loss.\n",
        "Jobs spoke of how he was fired from Apple, the company he co-founded. Though devastating at first, the experience rekindled his creativity, leading to the founding of NeXT and Pixar. He stressed the importance of loving what you do because that love will keep you going when things get tough.\n",
        "The third story was about death. Jobs shared his brush with a cancer diagnosis and how that experience reminded him that life is short. He urged students to live each day as if it were their last, to not waste time living someone else’s life, and to have the courage to follow their heart and intuition.\n",
        "He ended the speech with the words: \"Stay Hungry. Stay Foolish,\" a motto from the final issue of The Whole Earth Catalog that inspired him throughout his life.\n",
        "Jobs' speech remains a timeless reminder to pursue passion over security, embrace setbacks as opportunities, and to live with purpose and authenticity.\"\"\"\n",
        "\n",
        "sentences = nltk.sent_tokenize(para)"
      ],
      "metadata": {
        "id": "0-ruruImiaBr"
      },
      "execution_count": 81,
      "outputs": []
    },
    {
      "cell_type": "code",
      "source": [
        "from nltk.stem import WordNetLemmatizer\n",
        "lemmatizer = WordNetLemmatizer()"
      ],
      "metadata": {
        "id": "1E702Y1Hiacj"
      },
      "execution_count": 82,
      "outputs": []
    },
    {
      "cell_type": "code",
      "source": [
        "## Apply stopwords and filter and then apply  WOrdNetLemmetizer\n",
        "for i in range(len(sentences)):\n",
        "  words = nltk.word_tokenize(sentences[i])\n",
        "  words = [lemmatizer.lemmatize(word, pos='v') for word in words if word not in set(stopwords.words('english'))] #remove stop words\n",
        "  sentences[i] = ' '.join(words)  #concvert all the words into sentences"
      ],
      "metadata": {
        "id": "CB2hhCGIipDn"
      },
      "execution_count": 83,
      "outputs": []
    },
    {
      "cell_type": "code",
      "source": [
        "sentences"
      ],
      "metadata": {
        "colab": {
          "base_uri": "https://localhost:8080/"
        },
        "id": "8ZrVaUMWhjKA",
        "outputId": "612fccdf-b312-4bf6-cebc-3285300e0cf3"
      },
      "execution_count": 84,
      "outputs": [
        {
          "output_type": "execute_result",
          "data": {
            "text/plain": [
              "['In legendary 2005 commencement speech Stanford University , Steve Jobs share three deeply personal stories shape life , career , philosophy .',\n",
              " 'His speech emphasize importance trust intuition , find passion , embrace life ’ challenge courage faith .',\n",
              " 'The first story connect dot .',\n",
              " 'Jobs describe drop college allow take calligraphy course seem useless time later influence beautiful typography first Macintosh computer .',\n",
              " 'He explain ’ connect dot look forward—you connect look backward—so trust dot connect future .',\n",
              " 'His second story focus love loss .',\n",
              " 'Jobs speak fire Apple , company co-founded .',\n",
              " 'Though devastate first , experience rekindle creativity , lead found NeXT Pixar .',\n",
              " 'He stress importance love love keep go things get tough .',\n",
              " 'The third story death .',\n",
              " 'Jobs share brush cancer diagnosis experience remind life short .',\n",
              " 'He urge students live day last , waste time live someone else ’ life , courage follow heart intuition .',\n",
              " 'He end speech word : `` Stay Hungry .',\n",
              " \"Stay Foolish , '' motto final issue The Whole Earth Catalog inspire throughout life .\",\n",
              " \"Jobs ' speech remain timeless reminder pursue passion security , embrace setbacks opportunities , live purpose authenticity .\"]"
            ]
          },
          "metadata": {},
          "execution_count": 84
        }
      ]
    },
    {
      "cell_type": "markdown",
      "source": [
        "#Parts of Speech"
      ],
      "metadata": {
        "id": "QvF465jH7GqU"
      }
    },
    {
      "cell_type": "code",
      "source": [
        "nltk.download('averaged_perceptron_tagger_eng')"
      ],
      "metadata": {
        "colab": {
          "base_uri": "https://localhost:8080/"
        },
        "id": "BuInC5zE8iNs",
        "outputId": "a43e313e-4d9a-4ef2-a0b2-073bcc0b7635"
      },
      "execution_count": 92,
      "outputs": [
        {
          "output_type": "stream",
          "name": "stderr",
          "text": [
            "[nltk_data] Downloading package averaged_perceptron_tagger_eng to\n",
            "[nltk_data]     /root/nltk_data...\n",
            "[nltk_data]   Unzipping taggers/averaged_perceptron_tagger_eng.zip.\n"
          ]
        },
        {
          "output_type": "execute_result",
          "data": {
            "text/plain": [
              "True"
            ]
          },
          "metadata": {},
          "execution_count": 92
        }
      ]
    },
    {
      "cell_type": "code",
      "source": [
        "para = \"\"\"In his legendary 2005 commencement speech at Stanford University, Steve Jobs shared three deeply personal stories that shaped his life, career, and philosophy. His speech emphasized the importance of trusting your intuition, finding your passion, and embracing life’s challenges with courage and faith.\n",
        "The first story was about connecting the dots. Jobs described how dropping out of college allowed him to take a calligraphy course that seemed useless at the time but later influenced the beautiful typography in the first Macintosh computer. He explained that you can’t connect the dots looking forward—you can only connect them looking backward—so you have to trust that the dots will connect in your future.\n",
        "His second story focused on love and loss.\n",
        "Jobs spoke of how he was fired from Apple, the company he co-founded. Though devastating at first, the experience rekindled his creativity, leading to the founding of NeXT and Pixar. He stressed the importance of loving what you do because that love will keep you going when things get tough.\n",
        "The third story was about death. Jobs shared his brush with a cancer diagnosis and how that experience reminded him that life is short. He urged students to live each day as if it were their last, to not waste time living someone else’s life, and to have the courage to follow their heart and intuition.\n",
        "He ended the speech with the words: \"Stay Hungry. Stay Foolish,\" a motto from the final issue of The Whole Earth Catalog that inspired him throughout his life.\n",
        "Jobs' speech remains a timeless reminder to pursue passion over security, embrace setbacks as opportunities, and to live with purpose and authenticity.\"\"\"\n",
        "\n",
        "sentences = nltk.sent_tokenize(para)"
      ],
      "metadata": {
        "id": "Qltk0NFtix8H"
      },
      "execution_count": 86,
      "outputs": []
    },
    {
      "cell_type": "code",
      "source": [
        "len(sentences)"
      ],
      "metadata": {
        "colab": {
          "base_uri": "https://localhost:8080/"
        },
        "id": "uJSd4VeN7gKR",
        "outputId": "4c35ff55-8e3d-4085-ff2c-45fd753ca4f1"
      },
      "execution_count": 88,
      "outputs": [
        {
          "output_type": "execute_result",
          "data": {
            "text/plain": [
              "15"
            ]
          },
          "metadata": {},
          "execution_count": 88
        }
      ]
    },
    {
      "cell_type": "markdown",
      "source": [
        "POS Tags\n",
        "\n",
        "| Tag   | Meaning         | Example         |\n",
        "| ----- | --------------- | --------------- |\n",
        "| `NN`  | Noun (Singular) | book, dog       |\n",
        "| `NNS` | Noun (Plural)   | books, dogs     |\n",
        "| `VB`  | Verb (Base)     | go, run         |\n",
        "| `VBD` | Verb (Past)     | went, ran       |\n",
        "| `JJ`  | Adjective       | quick, blue     |\n",
        "| `RB`  | Adverb          | quickly, slowly |\n",
        "| `PRP` | Pronoun         | I, you, they    |\n",
        "| `IN`  | Preposition     | in, on, over    |\n",
        "| `DT`  | Determiner      | the, a, an      |\n"
      ],
      "metadata": {
        "id": "VdKgHwM17w7T"
      }
    },
    {
      "cell_type": "code",
      "source": [
        "# lets find POS Tag\n",
        "for i in range (len(sentences)):\n",
        "  words = nltk.word_tokenize(sentences[i])\n",
        "  words = [word for word in words if word not in (stopwords.words('english'))]\n",
        "  # sentences[i] = ' '.join(words)\n",
        "  pos_tag_words = nltk.pos_tag(words)\n",
        "  print(pos_tag_words)"
      ],
      "metadata": {
        "colab": {
          "base_uri": "https://localhost:8080/"
        },
        "id": "RX47vec37jzW",
        "outputId": "a6eaca04-e447-48cc-e7e6-7a51ed7a6322"
      },
      "execution_count": 93,
      "outputs": [
        {
          "output_type": "stream",
          "name": "stdout",
          "text": [
            "[('In', 'IN'), ('legendary', 'JJ'), ('2005', 'CD'), ('commencement', 'NN'), ('speech', 'NN'), ('Stanford', 'NNP'), ('University', 'NNP'), (',', ','), ('Steve', 'NNP'), ('Jobs', 'NNP'), ('shared', 'VBD'), ('three', 'CD'), ('deeply', 'NN'), ('personal', 'JJ'), ('stories', 'NNS'), ('shaped', 'VBD'), ('life', 'NN'), (',', ','), ('career', 'NN'), (',', ','), ('philosophy', 'NN'), ('.', '.')]\n",
            "[('His', 'PRP$'), ('speech', 'NN'), ('emphasized', 'VBD'), ('importance', 'NN'), ('trusting', 'VBG'), ('intuition', 'NN'), (',', ','), ('finding', 'VBG'), ('passion', 'NN'), (',', ','), ('embracing', 'VBG'), ('life', 'NN'), ('’', 'NN'), ('challenges', 'VBZ'), ('courage', 'NN'), ('faith', 'NN'), ('.', '.')]\n",
            "[('The', 'DT'), ('first', 'JJ'), ('story', 'NN'), ('connecting', 'VBG'), ('dots', 'NNS'), ('.', '.')]\n",
            "[('Jobs', 'NNP'), ('described', 'VBD'), ('dropping', 'VBG'), ('college', 'NN'), ('allowed', 'VBD'), ('take', 'JJ'), ('calligraphy', 'NN'), ('course', 'NN'), ('seemed', 'VBD'), ('useless', 'JJ'), ('time', 'NN'), ('later', 'RB'), ('influenced', 'VBD'), ('beautiful', 'JJ'), ('typography', 'NN'), ('first', 'RB'), ('Macintosh', 'NNP'), ('computer', 'NN'), ('.', '.')]\n",
            "[('He', 'PRP'), ('explained', 'VBD'), ('’', 'NNP'), ('connect', 'JJ'), ('dots', 'NNS'), ('looking', 'VBG'), ('forward—you', 'NN'), ('connect', 'VBP'), ('looking', 'VBG'), ('backward—so', 'NN'), ('trust', 'NN'), ('dots', 'NNS'), ('connect', 'VBP'), ('future', 'NN'), ('.', '.')]\n",
            "[('His', 'PRP$'), ('second', 'JJ'), ('story', 'NN'), ('focused', 'VBN'), ('love', 'JJ'), ('loss', 'NN'), ('.', '.')]\n",
            "[('Jobs', 'NNP'), ('spoke', 'VBD'), ('fired', 'VBN'), ('Apple', 'NNP'), (',', ','), ('company', 'NN'), ('co-founded', 'JJ'), ('.', '.')]\n",
            "[('Though', 'IN'), ('devastating', 'VBG'), ('first', 'JJ'), (',', ','), ('experience', 'NN'), ('rekindled', 'VBD'), ('creativity', 'NN'), (',', ','), ('leading', 'VBG'), ('founding', 'VBG'), ('NeXT', 'JJ'), ('Pixar', 'NNP'), ('.', '.')]\n",
            "[('He', 'PRP'), ('stressed', 'VBD'), ('importance', 'NN'), ('loving', 'VBG'), ('love', 'VB'), ('keep', 'NN'), ('going', 'VBG'), ('things', 'NNS'), ('get', 'VBP'), ('tough', 'JJ'), ('.', '.')]\n",
            "[('The', 'DT'), ('third', 'JJ'), ('story', 'NN'), ('death', 'NN'), ('.', '.')]\n",
            "[('Jobs', 'NNP'), ('shared', 'VBD'), ('brush', 'NN'), ('cancer', 'NN'), ('diagnosis', 'NN'), ('experience', 'NN'), ('reminded', 'VBD'), ('life', 'NN'), ('short', 'JJ'), ('.', '.')]\n",
            "[('He', 'PRP'), ('urged', 'VBD'), ('students', 'NNS'), ('live', 'JJ'), ('day', 'NN'), ('last', 'JJ'), (',', ','), ('waste', 'NN'), ('time', 'NN'), ('living', 'VBG'), ('someone', 'NN'), ('else', 'RB'), ('’', 'NNP'), ('life', 'NN'), (',', ','), ('courage', 'NN'), ('follow', 'JJ'), ('heart', 'NN'), ('intuition', 'NN'), ('.', '.')]\n",
            "[('He', 'PRP'), ('ended', 'VBD'), ('speech', 'NN'), ('words', 'NNS'), (':', ':'), ('``', '``'), ('Stay', 'NNP'), ('Hungry', 'NNP'), ('.', '.')]\n",
            "[('Stay', 'NNP'), ('Foolish', 'NNP'), (',', ','), ('``', '``'), ('motto', 'VBP'), ('final', 'JJ'), ('issue', 'NN'), ('The', 'DT'), ('Whole', 'NNP'), ('Earth', 'NNP'), ('Catalog', 'NNP'), ('inspired', 'VBD'), ('throughout', 'IN'), ('life', 'NN'), ('.', '.')]\n",
            "[('Jobs', 'NNP'), (\"'\", 'POS'), ('speech', 'NN'), ('remains', 'VBZ'), ('timeless', 'JJ'), ('reminder', 'NN'), ('pursue', 'NN'), ('passion', 'NN'), ('security', 'NN'), (',', ','), ('embrace', 'NN'), ('setbacks', 'NNS'), ('opportunities', 'NNS'), (',', ','), ('live', 'VBP'), ('purpose', 'JJ'), ('authenticity', 'NN'), ('.', '.')]\n"
          ]
        }
      ]
    },
    {
      "cell_type": "markdown",
      "source": [
        "# 9. NAME ENTITY RECOGNITION\n"
      ],
      "metadata": {
        "id": "UI3_HTeDAY18"
      }
    },
    {
      "cell_type": "code",
      "source": [
        "# prompt: write a long sentence for name enitity recognition example. only write a sentence and assign it to sentence variable\n",
        "nltk.download('maxent_ne_chunker_tab')\n",
        "nltk.download('maxent_ne_chunker')\n",
        "nltk.download('words')\n",
        "sentence = \"Barack Obama, the former President of the United States, met with Angela Merkel in Berlin, Germany, to discuss international trade and political stability.\""
      ],
      "metadata": {
        "colab": {
          "base_uri": "https://localhost:8080/"
        },
        "id": "6wL1k01H8Vz0",
        "outputId": "355fd506-6abf-434e-e754-e422f8651340"
      },
      "execution_count": 100,
      "outputs": [
        {
          "output_type": "stream",
          "name": "stderr",
          "text": [
            "[nltk_data] Downloading package maxent_ne_chunker_tab to\n",
            "[nltk_data]     /root/nltk_data...\n",
            "[nltk_data]   Unzipping chunkers/maxent_ne_chunker_tab.zip.\n",
            "[nltk_data] Downloading package maxent_ne_chunker to\n",
            "[nltk_data]     /root/nltk_data...\n",
            "[nltk_data]   Package maxent_ne_chunker is already up-to-date!\n",
            "[nltk_data] Downloading package words to /root/nltk_data...\n",
            "[nltk_data]   Package words is already up-to-date!\n"
          ]
        }
      ]
    },
    {
      "cell_type": "code",
      "source": [
        "sentence"
      ],
      "metadata": {
        "colab": {
          "base_uri": "https://localhost:8080/",
          "height": 52
        },
        "id": "1RECB6bMAoMB",
        "outputId": "6b2778f8-63e0-4a1c-ece0-9235c886a31a"
      },
      "execution_count": 102,
      "outputs": [
        {
          "output_type": "execute_result",
          "data": {
            "text/plain": [
              "'Barack Obama, the former President of the United States, met with Angela Merkel in Berlin, Germany, to discuss international trade and political stability.'"
            ],
            "application/vnd.google.colaboratory.intrinsic+json": {
              "type": "string"
            }
          },
          "metadata": {},
          "execution_count": 102
        }
      ]
    },
    {
      "cell_type": "code",
      "source": [
        "words = nltk.word_tokenize(sentence)\n",
        "words"
      ],
      "metadata": {
        "colab": {
          "base_uri": "https://localhost:8080/"
        },
        "id": "94q0cZbs8LEe",
        "outputId": "ee5eb25e-545d-4c52-9547-52644e61bb09"
      },
      "execution_count": 103,
      "outputs": [
        {
          "output_type": "execute_result",
          "data": {
            "text/plain": [
              "['Barack',\n",
              " 'Obama',\n",
              " ',',\n",
              " 'the',\n",
              " 'former',\n",
              " 'President',\n",
              " 'of',\n",
              " 'the',\n",
              " 'United',\n",
              " 'States',\n",
              " ',',\n",
              " 'met',\n",
              " 'with',\n",
              " 'Angela',\n",
              " 'Merkel',\n",
              " 'in',\n",
              " 'Berlin',\n",
              " ',',\n",
              " 'Germany',\n",
              " ',',\n",
              " 'to',\n",
              " 'discuss',\n",
              " 'international',\n",
              " 'trade',\n",
              " 'and',\n",
              " 'political',\n",
              " 'stability',\n",
              " '.']"
            ]
          },
          "metadata": {},
          "execution_count": 103
        }
      ]
    },
    {
      "cell_type": "code",
      "source": [
        "tag_ele = nltk.pos_tag(words)"
      ],
      "metadata": {
        "id": "JuZgOMWIA2q0"
      },
      "execution_count": 104,
      "outputs": []
    },
    {
      "cell_type": "code",
      "source": [
        "# nltk.ne_chunk(tag_ele).draw()\n",
        "print(nltk.ne_chunk(tag_ele))"
      ],
      "metadata": {
        "colab": {
          "base_uri": "https://localhost:8080/"
        },
        "id": "KmItMTLY8MJ4",
        "outputId": "9a9bb71d-732f-48ab-8815-d8ca62c20bee"
      },
      "execution_count": 108,
      "outputs": [
        {
          "output_type": "stream",
          "name": "stdout",
          "text": [
            "(S\n",
            "  (PERSON Barack/NNP)\n",
            "  (GPE Obama/NNP)\n",
            "  ,/,\n",
            "  the/DT\n",
            "  former/JJ\n",
            "  President/NNP\n",
            "  of/IN\n",
            "  the/DT\n",
            "  (GPE United/NNP States/NNPS)\n",
            "  ,/,\n",
            "  met/VBD\n",
            "  with/IN\n",
            "  (PERSON Angela/NNP Merkel/NNP)\n",
            "  in/IN\n",
            "  (GPE Berlin/NNP)\n",
            "  ,/,\n",
            "  (GPE Germany/NNP)\n",
            "  ,/,\n",
            "  to/TO\n",
            "  discuss/VB\n",
            "  international/JJ\n",
            "  trade/NN\n",
            "  and/CC\n",
            "  political/JJ\n",
            "  stability/NN\n",
            "  ./.)\n"
          ]
        }
      ]
    },
    {
      "cell_type": "code",
      "source": [],
      "metadata": {
        "id": "SlHERfiKA65Q"
      },
      "execution_count": null,
      "outputs": []
    }
  ]
}